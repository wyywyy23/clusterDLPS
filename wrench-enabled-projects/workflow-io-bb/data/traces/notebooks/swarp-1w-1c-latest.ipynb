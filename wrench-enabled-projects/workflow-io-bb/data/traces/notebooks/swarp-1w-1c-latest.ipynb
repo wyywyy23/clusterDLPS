{
 "cells": [
  {
   "cell_type": "code",
   "execution_count": 1,
   "metadata": {},
   "outputs": [
    {
     "name": "stdout",
     "output_type": "stream",
     "text": [
      "/usr/local/opt/python/bin/python3.7\n"
     ]
    },
    {
     "data": {
      "text/html": [
       "<style>.container { width:100% !important; }</style>"
      ],
      "text/plain": [
       "<IPython.core.display.HTML object>"
      ]
     },
     "metadata": {},
     "output_type": "display_data"
    }
   ],
   "source": [
    "import sys\n",
    "import os\n",
    "print(sys.executable)\n",
    "\n",
    "from IPython.core.display import display, HTML\n",
    "display(HTML(\"<style>.container { width:100% !important; }</style>\"))\n",
    "\n",
    "import importlib\n",
    "seaborn_found = importlib.util.find_spec('seaborn')\n",
    "if seaborn_found is None:\n",
    "    sys.write.stderr(\"[error] Seaborn package not found. exit\")\n",
    "    exit(-1)\n",
    "\n",
    "import seaborn as sns\n",
    "import pandas as pd\n",
    "\n",
    "import matplotlib as mpl\n",
    "\n",
    "mpl.use(\"pgf\")\n",
    "\n",
    "import matplotlib.pyplot as plt\n",
    "\n",
    "plt.rcParams.update({\n",
    "    \"font.family\": \"serif\",  # use serif/main font for text elements\n",
    "    \"text.usetex\": False,     # use inline math for ticks\n",
    "    \"pgf.rcfonts\": False,    # don't setup fonts from rc parameters\n",
    "    \"pgf.preamble\": [\n",
    "         \"\\\\usepackage{units}\",          # load additional packages\n",
    "         \"\\\\usepackage{metalogo}\",\n",
    "         \"\\\\usepackage{unicode-math}\",   # unicode math setup\n",
    "         r\"\\setmathfont{xits-math.otf}\",\n",
    "         ]\n",
    "})\n",
    "\n",
    "# plt.rc('text', usetex=False)\n",
    "\n",
    "plt.rcParams.update({\n",
    "    \"font.family\": \"serif\",\n",
    "    \"font.serif\": [],                    # use latex default serif font\n",
    "    \"font.size\": \"18\",\n",
    "})\n",
    "\n",
    "plt.rcParams.update({\n",
    "    \"pgf.texsystem\": \"pdflatex\",\n",
    "    \"pgf.preamble\": [\n",
    "         r\"\\usepackage[utf8x]{inputenc}\",\n",
    "         r\"\\usepackage[T1]{fontenc}\",\n",
    "         r\"\\usepackage{cmbright}\",\n",
    "         ]\n",
    "})\n",
    "\n",
    "\n",
    "sns.set(style=\"ticks\", color_codes=True)\n",
    "sns.set_context(\"paper\")\n",
    "sns.set_style(\"darkgrid\", {\"axes.facecolor\": \".9\", 'xtick.bottom': True, 'xtick.top': False, 'ytick.left': True, 'ytick.right': False})\n",
    "\n",
    "mpl.pyplot.close(\"all\")"
   ]
  },
  {
   "cell_type": "code",
   "execution_count": 2,
   "metadata": {},
   "outputs": [
    {
     "name": "stdout",
     "output_type": "stream",
     "text": [
      "Directory  /Users/lpottier/research/usc-isi/projects/paper-workflow-bb/figures/plots/real-swarp/latest-swarp-1w-32c/  already exists\n",
      "[ 0 12 16 20 24 28 32  4  8]\n",
      "[ 0 16 24 32  8]\n"
     ]
    }
   ],
   "source": [
    "DIR=\"/Users/lpottier/research/usc-isi/projects/workflow-io-bb/data/traces/swarp/shared-cori/\"\n",
    "csv_file = DIR+\"/\"+\"bb-runs2020-1c.csv\"\n",
    "\n",
    "CORE=\"32\"\n",
    "PLOT_DIR=\"/Users/lpottier/research/usc-isi/projects/paper-workflow-bb/figures/plots/real-swarp\"\n",
    "OUTPUT = PLOT_DIR+\"/\"+\"latest-swarp-1w-\"+CORE+\"c/\"\n",
    "\n",
    "try:\n",
    "    # Create target Directory\n",
    "    os.mkdir(OUTPUT)\n",
    "    print(\"Directory \" , OUTPUT ,  \" Created \") \n",
    "except FileExistsError:\n",
    "    print(\"Directory \" , OUTPUT ,  \" already exists\")\n",
    "\n",
    "#csv_file = \"swarp_test_switches.csv\"\n",
    "df_swarp = pd.read_csv(csv_file, sep=' ')\n",
    "\n",
    "df_swarp = df_swarp[df_swarp.NB_CORES==int(CORE)]\n",
    "\n",
    "print(df_swarp.BB_NB_FILES.unique())\n",
    "df_swarp = df_swarp.loc[df_swarp['BB_NB_FILES'].isin([0,8,16,24,32])]\n",
    "print(df_swarp.BB_NB_FILES.unique())\n",
    "\n",
    "tasks = [\"STAGEIN_TIME_S\", \"RESAMPLE_TIME_S\", \"COMBINE_TIME_S\", \"MAKESPAN_S\"]"
   ]
  },
  {
   "cell_type": "code",
   "execution_count": 3,
   "metadata": {},
   "outputs": [
    {
     "name": "stdout",
     "output_type": "stream",
     "text": [
      "    FITS  BB_TYPE  NB_CORES  BB_NB_FILES  RESAMPLE_TIME_S  COMBINE_TIME_S\n",
      "540    Y  PRIVATE        32            0           84.496          23.012\n",
      "541    Y  PRIVATE        32            0           86.607          22.466\n",
      "542    Y  PRIVATE        32            0           85.146          22.348\n",
      "543    Y  PRIVATE        32            0           83.805          23.200\n",
      "544    Y  PRIVATE        32            0           85.909          22.501\n",
      "545    Y  PRIVATE        32            0           83.868          23.175\n",
      "546    Y  PRIVATE        32            0           86.126          23.504\n",
      "547    Y  PRIVATE        32            0           83.807          23.145\n",
      "548    Y  PRIVATE        32            0           83.100          23.043\n",
      "549    Y  PRIVATE        32            0           83.214          22.742\n",
      "550    Y  PRIVATE        32            0           84.707          22.996\n",
      "551    Y  PRIVATE        32            0           84.380          22.184\n",
      "552    Y  PRIVATE        32            0           87.147          23.216\n",
      "553    Y  PRIVATE        32            0           84.863          22.978\n",
      "554    Y  PRIVATE        32            0           85.764          23.443\n",
      "555    Y  STRIPED        32            0          102.632          44.555\n",
      "556    Y  STRIPED        32            0           98.410          40.628\n",
      "557    Y  STRIPED        32            0          102.124          52.310\n",
      "558    Y  STRIPED        32            0          101.391          41.774\n",
      "559    Y  STRIPED        32            0          101.934          44.373\n",
      "560    Y  STRIPED        32            0          120.014          86.341\n",
      "561    Y  STRIPED        32            0          139.401          78.078\n",
      "562    Y  STRIPED        32            0          125.884          56.087\n",
      "563    Y  STRIPED        32            0           94.742          36.537\n",
      "564    Y  STRIPED        32            0           96.020          37.014\n",
      "565    Y  STRIPED        32            0           95.183          37.698\n",
      "566    Y  STRIPED        32            0           96.445          36.974\n",
      "567    Y  STRIPED        32            0           94.882         108.122\n",
      "568    Y  STRIPED        32            0          203.436          78.855\n",
      "569    Y  STRIPED        32            0          107.817          40.541\n",
      "..   ...      ...       ...          ...              ...             ...\n",
      "930    N  STRIPED        32           32          100.015          26.701\n",
      "931    N  STRIPED        32           32          107.456          28.718\n",
      "932    N  STRIPED        32           32           94.392          26.355\n",
      "933    N  STRIPED        32           32           99.577          27.693\n",
      "934    N  STRIPED        32           32          102.157          30.260\n",
      "935    N  STRIPED        32           32          104.388          32.059\n",
      "936    N  STRIPED        32           32          112.126          28.870\n",
      "937    N  STRIPED        32           32          109.317          30.804\n",
      "938    N  STRIPED        32           32           96.144          26.602\n",
      "939    N  STRIPED        32           32           97.326          26.832\n",
      "940    N  STRIPED        32           32          103.206          28.110\n",
      "941    N  STRIPED        32           32          105.040          25.641\n",
      "942    N  STRIPED        32           32           98.140          25.963\n",
      "943    N  STRIPED        32           32          115.166          33.101\n",
      "944    N  STRIPED        32           32          116.710          32.062\n",
      "945    N  PRIVATE        32           32           87.885          25.716\n",
      "946    N  PRIVATE        32           32           94.915          25.667\n",
      "947    N  PRIVATE        32           32           87.720          25.579\n",
      "948    N  PRIVATE        32           32           90.800          25.594\n",
      "949    N  PRIVATE        32           32           91.084          26.209\n",
      "950    N  PRIVATE        32           32           93.390          25.304\n",
      "951    N  PRIVATE        32           32           96.675          26.369\n",
      "952    N  PRIVATE        32           32           94.817          28.292\n",
      "953    N  PRIVATE        32           32           90.333          25.488\n",
      "954    N  PRIVATE        32           32           90.946          24.674\n",
      "955    N  PRIVATE        32           32           91.286          24.960\n",
      "956    N  PRIVATE        32           32           92.500          26.556\n",
      "957    N  PRIVATE        32           32           93.583          26.130\n",
      "958    N  PRIVATE        32           32           96.599          32.533\n",
      "959    N  PRIVATE        32           32          100.125          28.893\n",
      "\n",
      "[300 rows x 6 columns]\n"
     ]
    }
   ],
   "source": [
    "small_dt = df_swarp[[\"FITS\", \"BB_TYPE\", \"NB_CORES\", \"BB_NB_FILES\",\"RESAMPLE_TIME_S\", \"COMBINE_TIME_S\"]]\n",
    "#small_dt = small_dt.sort_values(by=['NB_PIPELINE'])\n",
    "print(small_dt.sort_values(by=['NB_CORES', 'BB_NB_FILES']))"
   ]
  },
  {
   "cell_type": "code",
   "execution_count": 4,
   "metadata": {},
   "outputs": [
    {
     "name": "stdout",
     "output_type": "stream",
     "text": [
      "     NB_PIPELINE FITS  BB_NB_FILES  MAKESPAN_S\n",
      "570            1    N            0  111.356543\n",
      "571            1    N            0  111.877339\n",
      "572            1    N            0  114.812367\n",
      "573            1    N            0  113.374809\n",
      "574            1    N            0  115.680907\n",
      "575            1    N            0  115.402103\n",
      "576            1    N            0  122.852633\n",
      "577            1    N            0  170.978307\n",
      "578            1    N            0  114.006899\n",
      "579            1    N            0  114.315546\n",
      "580            1    N            0  114.839420\n",
      "581            1    N            0  114.006473\n",
      "582            1    N            0  113.112261\n",
      "583            1    N            0  114.367129\n",
      "584            1    N            0  126.202245\n",
      "585            1    N            0  134.373605\n",
      "586            1    N            0  124.067787\n",
      "587            1    N            0  128.133338\n",
      "588            1    N            0  126.187623\n",
      "589            1    N            0  122.241764\n",
      "590            1    N            0  136.860589\n",
      "591            1    N            0  141.831231\n",
      "592            1    N            0  211.919642\n",
      "593            1    N            0  124.302334\n",
      "594            1    N            0  125.031279\n",
      "595            1    N            0  124.270200\n",
      "596            1    N            0  126.460118\n",
      "597            1    N            0  129.256902\n",
      "598            1    N            0  132.002775\n",
      "599            1    N            0  140.050317\n",
      "..           ...  ...          ...         ...\n",
      "900            1    Y           32  112.252451\n",
      "901            1    Y           32  110.740006\n",
      "902            1    Y           32  115.135775\n",
      "903            1    Y           32  111.409912\n",
      "904            1    Y           32  112.599604\n",
      "905            1    Y           32  113.544352\n",
      "906            1    Y           32  111.027411\n",
      "907            1    Y           32  112.438109\n",
      "908            1    Y           32  115.600322\n",
      "909            1    Y           32  109.523290\n",
      "910            1    Y           32  112.777878\n",
      "911            1    Y           32  114.730224\n",
      "912            1    Y           32  117.736632\n",
      "913            1    Y           32  185.638514\n",
      "914            1    Y           32  147.998719\n",
      "915            1    Y           32  146.195330\n",
      "916            1    Y           32  137.664988\n",
      "917            1    Y           32  150.333600\n",
      "918            1    Y           32  142.744073\n",
      "919            1    Y           32  160.015054\n",
      "920            1    Y           32  227.081445\n",
      "921            1    Y           32  338.968477\n",
      "922            1    Y           32  148.513195\n",
      "923            1    Y           32  141.154294\n",
      "924            1    Y           32  135.643668\n",
      "925            1    Y           32  136.251501\n",
      "926            1    Y           32  162.245651\n",
      "927            1    Y           32  312.346893\n",
      "928            1    Y           32  159.359852\n",
      "929            1    Y           32  136.195204\n",
      "\n",
      "[300 rows x 4 columns]\n"
     ]
    }
   ],
   "source": [
    "small_dt = df_swarp[[\"NB_PIPELINE\", \"FITS\", \"BB_NB_FILES\" ,\"MAKESPAN_S\"]]\n",
    "#small_dt = small_dt.sort_values(by=['NB_PIPELINE'])\n",
    "print(small_dt.sort_values(by=['NB_PIPELINE', 'FITS', \"BB_NB_FILES\"]))"
   ]
  },
  {
   "cell_type": "code",
   "execution_count": 5,
   "metadata": {},
   "outputs": [
    {
     "name": "stdout",
     "output_type": "stream",
     "text": [
      "    FITS  BB_NB_FILES  RESAMPLE_TIME_S  COMBINE_TIME_S\n",
      "540    Y            0           84.496          23.012\n",
      "572    N            0           87.161          26.932\n",
      "573    N            0           85.666          26.707\n",
      "574    N            0           85.410          29.688\n",
      "575    N            0           85.046          29.329\n",
      "576    N            0           88.196          33.835\n",
      "577    N            0           85.873          33.055\n",
      "578    N            0           87.076          26.431\n",
      "579    N            0           88.108          25.667\n",
      "580    N            0           87.355          26.806\n",
      "581    N            0           84.389          28.756\n",
      "582    N            0           85.370          27.161\n",
      "583    N            0           86.507          27.382\n",
      "584    N            0           87.290          34.947\n",
      "585    N            0          106.272          25.072\n",
      "586    N            0           97.811          24.788\n",
      "587    N            0          100.190          26.520\n",
      "588    N            0           96.754          26.561\n",
      "589    N            0           96.212          25.385\n",
      "590    N            0          107.329          26.470\n",
      "591    N            0          111.016          26.747\n",
      "592    N            0          101.528          30.912\n",
      "593    N            0           96.471          25.205\n",
      "594    N            0           98.537          25.844\n",
      "595    N            0           98.470          24.941\n",
      "596    N            0           97.941          27.142\n",
      "597    N            0          101.115          25.896\n",
      "598    N            0           97.534          29.848\n",
      "571    N            0           83.103          28.242\n",
      "570    N            0           84.686          25.993\n",
      "..   ...          ...              ...             ...\n",
      "930    N           32          100.015          26.701\n",
      "932    N           32           94.392          26.355\n",
      "958    N           32           96.599          32.533\n",
      "957    N           32           93.583          26.130\n",
      "956    N           32           92.500          26.556\n",
      "955    N           32           91.286          24.960\n",
      "954    N           32           90.946          24.674\n",
      "953    N           32           90.333          25.488\n",
      "952    N           32           94.817          28.292\n",
      "951    N           32           96.675          26.369\n",
      "950    N           32           93.390          25.304\n",
      "949    N           32           91.084          26.209\n",
      "948    N           32           90.800          25.594\n",
      "947    N           32           87.720          25.579\n",
      "931    N           32          107.456          28.718\n",
      "946    N           32           94.915          25.667\n",
      "944    N           32          116.710          32.062\n",
      "943    N           32          115.166          33.101\n",
      "942    N           32           98.140          25.963\n",
      "941    N           32          105.040          25.641\n",
      "940    N           32          103.206          28.110\n",
      "939    N           32           97.326          26.832\n",
      "938    N           32           96.144          26.602\n",
      "937    N           32          109.317          30.804\n",
      "936    N           32          112.126          28.870\n",
      "935    N           32          104.388          32.059\n",
      "934    N           32          102.157          30.260\n",
      "933    N           32           99.577          27.693\n",
      "945    N           32           87.885          25.716\n",
      "929    Y           32           93.985          36.657\n",
      "\n",
      "[300 rows x 4 columns]\n"
     ]
    }
   ],
   "source": [
    "small_dt = df_swarp[[\"FITS\", \"BB_NB_FILES\" ,\"RESAMPLE_TIME_S\", \"COMBINE_TIME_S\"]]\n",
    "#small_dt = small_dt.sort_values(by=['NB_PIPELINE'])\n",
    "print(small_dt.sort_values(by=['BB_NB_FILES']))"
   ]
  },
  {
   "cell_type": "code",
   "execution_count": 6,
   "metadata": {
    "scrolled": true
   },
   "outputs": [],
   "source": [
    "#grouped = small_dt.groupby('BB_NB_FILES', sort=True)\n",
    "#print(grouped.groups)"
   ]
  },
  {
   "cell_type": "code",
   "execution_count": 7,
   "metadata": {
    "scrolled": false
   },
   "outputs": [],
   "source": [
    "# plt.figure()\n",
    "# df_swarp_priv = df_swarp_priv.sort_values(by=['BB_NB_FILES'])\n",
    "# tmp_df = df_swarp_priv[df_swarp_priv.FITS==\"N\"]\n",
    "# plt.errorbar(tmp_df.BB_NB_FILES, tmp_df.RESAMPLE_MEAN_TIME_S, xerr=0, yerr=tmp_df.RESAMPLE_SD_TIME)\n",
    "# #plt.title(\"\")\n",
    "\n",
    "# #g = sns.lineplot(x=\"BB_NB_FILES\", y=\"RESAMPLE_MEAN_TIME_S\", ci=\"RESAMPLE_SD_TIME\", hue=\"FITS\", style=\"FITS\", markers=True, dashes=True, data=swarp_dt_priv)"
   ]
  },
  {
   "cell_type": "code",
   "execution_count": 8,
   "metadata": {},
   "outputs": [],
   "source": [
    "#g = sns.lineplot(x=\"BB_NB_FILES\", y=\"COMBINE_MEAN_TIME_S\", hue=\"FITS\", style=\"FITS\", markers=True, dashes=True, data=swarp_dt_priv)\n",
    "\n",
    "# swarp_dt_priv = swarp_dt_priv.sort_values(by=['BB_NB_FILES'])\n",
    "# swarp_dt_priv_nofits = swarp_dt_priv[swarp_dt_priv.FITS==\"N\"]\n",
    "# swarp_dt_priv_fits = swarp_dt_priv[swarp_dt_priv.FITS==\"Y\"]\n",
    "\n",
    "\n",
    "# fig, axs = plt.subplots(nrows=2, ncols=2, sharex=True, sharey=False)\n",
    "# #plt.axis('scaled')\n",
    "\n",
    "# ax = axs[0,0]\n",
    "# ax.errorbar(swarp_dt_priv_fits.BB_NB_FILES, swarp_dt_priv_fits.MEAN_MAKESPAN_S, yerr=swarp_dt_priv_fits.SD_MAKESPAN, color=\"b\")\n",
    "# ax.errorbar(swarp_dt_priv_nofits.BB_NB_FILES, swarp_dt_priv_nofits.MEAN_MAKESPAN_S, yerr=swarp_dt_priv_nofits.SD_MAKESPAN, color=\"r\")\n",
    "\n",
    "# ax.set_title('MEAN_MAKESPAN_S')\n",
    "\n",
    "# # With 4 subplots, reduce the number of axis ticks to avoid crowding.\n",
    "# ax.locator_params(nbins=4)\n",
    "\n",
    "# ax.minorticks_on()\n",
    "# ax.grid()\n",
    "# ax.set_ylabel('Time (s)')\n",
    "\n",
    "\n",
    "# ax = axs[0,1]\n",
    "# ax.errorbar(swarp_dt_priv_fits.BB_NB_FILES, swarp_dt_priv_fits.STAGEIN_MEAN_TIME_S, yerr=swarp_dt_priv_fits.STAGEIN_SD_TIME, color=\"b\")\n",
    "# ax.errorbar(swarp_dt_priv_nofits.BB_NB_FILES, swarp_dt_priv_nofits.STAGEIN_MEAN_TIME_S, yerr=swarp_dt_priv_nofits.STAGEIN_SD_TIME, color=\"r\")\n",
    "# ax.set_title('STAGEIN_MEAN_TIME_S')\n",
    "\n",
    "# ax.minorticks_on()\n",
    "# ax.grid()\n",
    "\n",
    "# ax = axs[1,0]\n",
    "# ax.errorbar(swarp_dt_priv_fits.BB_NB_FILES, swarp_dt_priv_fits.RESAMPLE_MEAN_TIME_S, yerr=swarp_dt_priv_fits.RESAMPLE_SD_TIME, color=\"b\")\n",
    "# ax.errorbar(swarp_dt_priv_nofits.BB_NB_FILES, swarp_dt_priv_nofits.RESAMPLE_MEAN_TIME_S, yerr=swarp_dt_priv_nofits.RESAMPLE_SD_TIME, color=\"r\")\n",
    "\n",
    "# ax.set_title('RESAMPLE_MEAN_TIME_S')\n",
    "\n",
    "# ax.minorticks_on()\n",
    "# ax.grid()\n",
    "# ax.set_xlabel('Number of files in BB')\n",
    "# ax.set_ylabel('Time (s)')\n",
    "\n",
    "# ax = axs[1,1]\n",
    "# ax.errorbar(swarp_dt_priv_fits.BB_NB_FILES, swarp_dt_priv_fits.COMBINE_MEAN_TIME_S, yerr=swarp_dt_priv_fits.COMBINE_SD_TIME, color=\"b\")\n",
    "# ax.errorbar(swarp_dt_priv_nofits.BB_NB_FILES, swarp_dt_priv_nofits.COMBINE_MEAN_TIME_S, yerr=swarp_dt_priv_nofits.COMBINE_SD_TIME, color=\"r\")\n",
    "# ax.set_title('COMBINE_MEAN_TIME_S')\n",
    "\n",
    "# ax.minorticks_on()\n",
    "# ax.grid()\n",
    "# ax.set_xlabel('Number of files in BB')\n",
    "\n",
    "# plt.show()"
   ]
  },
  {
   "cell_type": "code",
   "execution_count": null,
   "metadata": {},
   "outputs": [],
   "source": []
  },
  {
   "cell_type": "code",
   "execution_count": 9,
   "metadata": {},
   "outputs": [],
   "source": [
    "# sns.set_context(\"notebook\", font_scale=1.2, rc={\"lines.linewidth\": 1.8})\n",
    "#sns.set_style(\"darkgrid\")"
   ]
  },
  {
   "cell_type": "code",
   "execution_count": 10,
   "metadata": {},
   "outputs": [],
   "source": [
    "## Use the full data\n",
    "\n",
    "is_FITS =  df_swarp['FITS']==\"Y\"\n",
    "is_PRIVATE =  df_swarp['BB_TYPE']==\"PRIVATE\"\n"
   ]
  },
  {
   "cell_type": "code",
   "execution_count": null,
   "metadata": {},
   "outputs": [],
   "source": []
  },
  {
   "cell_type": "code",
   "execution_count": 11,
   "metadata": {
    "scrolled": true
   },
   "outputs": [
    {
     "name": "stderr",
     "output_type": "stream",
     "text": [
      "/usr/local/lib/python3.7/site-packages/pandas/core/generic.py:5096: SettingWithCopyWarning: \n",
      "A value is trying to be set on a copy of a slice from a DataFrame.\n",
      "Try using .loc[row_indexer,col_indexer] = value instead\n",
      "\n",
      "See the caveats in the documentation: http://pandas.pydata.org/pandas-docs/stable/indexing.html#indexing-view-versus-copy\n",
      "  self[name] = value\n"
     ]
    }
   ],
   "source": [
    "temp_df = df_swarp[is_FITS & is_PRIVATE]\n",
    "temp_df.BB_NB_FILES = (temp_df.BB_NB_FILES*100)/32\n",
    "\n",
    "xlabel='Input files in burst buffers (%)'\n",
    "legend_label=['Private', 'Striped']\n",
    "\n",
    "def plot_boxplot_all_tasks(df, output, print_dots=False):\n",
    "\n",
    "    with sns.light_palette(\"green\"):\n",
    "\n",
    "        #print(test.info())\n",
    "\n",
    "        f, axes = plt.subplots(2, 2, figsize=(10, 10), sharex=True)\n",
    "        f.patch.set_alpha(0)\n",
    "\n",
    "        g1 = sns.boxplot(x=\"BB_NB_FILES\", y=\"STAGEIN_TIME_S\", data=temp_df, ax=axes[0,0])\n",
    "        if print_dots:\n",
    "            g1 = sns.swarmplot(x=\"BB_NB_FILES\", y=\"STAGEIN_TIME_S\", data=temp_df, color=\".25\", ax=axes[0,0])\n",
    "        g1.set(xlabel='', ylabel='Stage in time (s)')\n",
    "\n",
    "        g2 = sns.boxplot(x=\"BB_NB_FILES\", y=\"RESAMPLE_TIME_S\", data=temp_df, ax=axes[0,1])\n",
    "        if print_dots:\n",
    "            g2 = sns.swarmplot(x=\"BB_NB_FILES\", y=\"RESAMPLE_TIME_S\", data=temp_df, color=\".25\", ax=axes[0,1])\n",
    "        g2.set(xlabel='', ylabel='Resample time (s)')\n",
    "\n",
    "        g3 = sns.boxplot(x=\"BB_NB_FILES\", y=\"COMBINE_TIME_S\", data=temp_df, ax=axes[1,0])\n",
    "        if print_dots:\n",
    "            g3 = sns.swarmplot(x=\"BB_NB_FILES\", y=\"COMBINE_TIME_S\", data=temp_df, color=\".25\", ax=axes[1,0])\n",
    "        g3.set(xlabel=xlabel, ylabel='Combine time (s)')\n",
    "\n",
    "        g4 = sns.boxplot(x=\"BB_NB_FILES\", y=\"MAKESPAN_S\", data=temp_df, ax=axes[1,1])\n",
    "        if print_dots:\n",
    "            g4 = sns.swarmplot(x=\"BB_NB_FILES\", y=\"MAKESPAN_S\", data=temp_df, color=\".25\", ax=axes[1,1])\n",
    "        g4.set(xlabel=xlabel, ylabel='Makespan (s)')\n",
    "\n",
    "        plt.tight_layout()\n",
    "        plt.savefig(OUTPUT+output+'.pdf', facecolor=f.get_facecolor(), edgecolor='none')\n",
    "        plt.savefig(OUTPUT+output+'.pgf', facecolor=f.get_facecolor(), edgecolor='none')\n",
    "        #plt.close() \n",
    "\n",
    "        \n",
    "plot_boxplot_all_tasks(temp_df, output=\"swarp-box-fits-private-1w-\"+CORE+\"c\")\n"
   ]
  },
  {
   "cell_type": "code",
   "execution_count": 12,
   "metadata": {},
   "outputs": [
    {
     "name": "stderr",
     "output_type": "stream",
     "text": [
      "/usr/local/lib/python3.7/site-packages/pandas/core/generic.py:5096: SettingWithCopyWarning: \n",
      "A value is trying to be set on a copy of a slice from a DataFrame.\n",
      "Try using .loc[row_indexer,col_indexer] = value instead\n",
      "\n",
      "See the caveats in the documentation: http://pandas.pydata.org/pandas-docs/stable/indexing.html#indexing-view-versus-copy\n",
      "  self[name] = value\n"
     ]
    },
    {
     "name": "stdout",
     "output_type": "stream",
     "text": [
      "Plot boxplot task: STAGEIN_TIME_S\n"
     ]
    },
    {
     "name": "stderr",
     "output_type": "stream",
     "text": [
      "/usr/local/lib/python3.7/site-packages/ipykernel_launcher.py:24: UserWarning: Matplotlib is currently using pgf, which is a non-GUI backend, so cannot show the figure.\n"
     ]
    },
    {
     "name": "stdout",
     "output_type": "stream",
     "text": [
      "Plot boxplot task: RESAMPLE_TIME_S\n"
     ]
    },
    {
     "name": "stderr",
     "output_type": "stream",
     "text": [
      "/usr/local/lib/python3.7/site-packages/ipykernel_launcher.py:24: UserWarning: Matplotlib is currently using pgf, which is a non-GUI backend, so cannot show the figure.\n"
     ]
    },
    {
     "name": "stdout",
     "output_type": "stream",
     "text": [
      "Plot boxplot task: COMBINE_TIME_S\n"
     ]
    },
    {
     "name": "stderr",
     "output_type": "stream",
     "text": [
      "/usr/local/lib/python3.7/site-packages/ipykernel_launcher.py:24: UserWarning: Matplotlib is currently using pgf, which is a non-GUI backend, so cannot show the figure.\n"
     ]
    },
    {
     "name": "stdout",
     "output_type": "stream",
     "text": [
      "Plot boxplot task: MAKESPAN_S\n"
     ]
    },
    {
     "name": "stderr",
     "output_type": "stream",
     "text": [
      "/usr/local/lib/python3.7/site-packages/ipykernel_launcher.py:24: UserWarning: Matplotlib is currently using pgf, which is a non-GUI backend, so cannot show the figure.\n"
     ]
    }
   ],
   "source": [
    "temp_df = df_swarp[is_FITS & is_PRIVATE]\n",
    "temp_df.BB_NB_FILES = (temp_df.BB_NB_FILES*100)/32\n",
    "\n",
    "def plot_boxplot_per_task(df, col, output, print_dots=False):\n",
    "    xlabel='Number of input files in burst buffers (%)'\n",
    "    legend_label=['Private', 'Striped']\n",
    "    name = col.split(\"_\")[0].lower()\n",
    "        \n",
    "    with sns.light_palette(\"green\"):\n",
    "\n",
    "        #print(test.info())\n",
    "\n",
    "        f = plt.figure(figsize=(4, 3))\n",
    "        f.patch.set_alpha(0)\n",
    "\n",
    "        g1 = sns.boxplot(x=\"BB_NB_FILES\", y=col, data=df)\n",
    "        if print_dots:\n",
    "            g1 = sns.swarmplot(x=\"BB_NB_FILES\", y=col, data=df, color=\".25\")\n",
    "        g1.set(xlabel=xlabel, ylabel='Execution time (s)')\n",
    "\n",
    "        plt.tight_layout()\n",
    "        plt.savefig(OUTPUT+'swarp-box-'+name+output+'.pdf', facecolor=f.get_facecolor(), edgecolor='none')\n",
    "        plt.savefig(OUTPUT+'swarp-box-'+name+output+'.pgf', facecolor=f.get_facecolor(), edgecolor='none')\n",
    "        plt.show()\n",
    "\n",
    "for task in tasks:\n",
    "    print(\"Plot boxplot task:\", task)\n",
    "    plot_boxplot_per_task(temp_df, task, output=\"-fits-private-1w-\"+CORE+\"c\")"
   ]
  },
  {
   "cell_type": "code",
   "execution_count": 13,
   "metadata": {
    "scrolled": true
   },
   "outputs": [],
   "source": [
    "g = sns.catplot(x=\"BB_NB_FILES\", y=\"MAKESPAN_S\", hue=\"BB_TYPE\", col=\"FITS\", data=df_swarp, kind=\"box\")"
   ]
  },
  {
   "cell_type": "code",
   "execution_count": 14,
   "metadata": {
    "scrolled": true
   },
   "outputs": [
    {
     "name": "stdout",
     "output_type": "stream",
     "text": [
      "FITS\n"
     ]
    },
    {
     "name": "stderr",
     "output_type": "stream",
     "text": [
      "/usr/local/lib/python3.7/site-packages/pandas/core/generic.py:5096: SettingWithCopyWarning: \n",
      "A value is trying to be set on a copy of a slice from a DataFrame.\n",
      "Try using .loc[row_indexer,col_indexer] = value instead\n",
      "\n",
      "See the caveats in the documentation: http://pandas.pydata.org/pandas-docs/stable/indexing.html#indexing-view-versus-copy\n",
      "  self[name] = value\n"
     ]
    }
   ],
   "source": [
    "print(\"FITS\")\n",
    "temp_df = df_swarp[is_FITS]\n",
    "temp_df.BB_NB_FILES = (temp_df.BB_NB_FILES*100)/32\n",
    "\n",
    "def plot_lineplot_all_tasks_bbtype(df, output, label, legend_label):\n",
    "    \n",
    "    #print(test.info())\n",
    "\n",
    "    f, axes = plt.subplots(2, 2, figsize=(10, 7), sharex=True)\n",
    "    f.patch.set_alpha(0)\n",
    "\n",
    "    g2 = sns.lineplot(x=\"BB_NB_FILES\", y=\"STAGEIN_TIME_S\", hue=\"BB_TYPE\", style=\"BB_TYPE\", data=temp_df, ax=axes[0,0])\n",
    "    g2.legend(title='', loc='upper left', labels=legend_label)\n",
    "    g2.set(xlabel=label[0], ylabel='Stage in time (s)')\n",
    "\n",
    "    g3 = sns.lineplot(x=\"BB_NB_FILES\", y=\"RESAMPLE_TIME_S\", hue=\"BB_TYPE\", style=\"BB_TYPE\", data=temp_df, ax=axes[0,1])\n",
    "    #g3.legend_.remove()\n",
    "    g3.legend(title='', loc='upper right', labels=legend_label)\n",
    "    g3.set(xlabel=label[0], ylabel='Resample time (s)')\n",
    "\n",
    "    g4 = sns.lineplot(x=\"BB_NB_FILES\", y=\"COMBINE_TIME_S\", hue=\"BB_TYPE\", style=\"BB_TYPE\", data=temp_df, ax=axes[1,0])\n",
    "    #g4.legend_.remove()\n",
    "    g4.legend(title='', loc='upper left', labels=legend_label)\n",
    "    g4.set(xlabel=label[0], ylabel='Combine time (s)')\n",
    "\n",
    "    g1 = sns.lineplot(x=\"BB_NB_FILES\", y=\"MAKESPAN_S\", hue=\"BB_TYPE\", style=\"BB_TYPE\", data=temp_df, ax=axes[1,1])\n",
    "    #g1.legend_.remove()\n",
    "    g1.legend(title='', loc='center left', labels=legend_label)\n",
    "    g1.set(xlabel=label[0], ylabel='Makespan (s)')\n",
    "\n",
    "    plt.tight_layout()\n",
    "    plt.savefig(OUTPUT+output+'.pdf', facecolor=f.get_facecolor(), edgecolor='none')\n",
    "    plt.savefig(OUTPUT+output+'.pgf', facecolor=f.get_facecolor(), edgecolor='none')\n",
    "    #plt.close() \n",
    "\n",
    "xlabel='Input files in burst buffers (%)'\n",
    "legend_label=['Private', 'Striped']\n",
    "    \n",
    "plot_lineplot_all_tasks_bbtype(temp_df, \"swarp-line-fits-private-1w-\"+CORE+\"c\", label=[xlabel, ''], legend_label=legend_label)\n"
   ]
  },
  {
   "cell_type": "code",
   "execution_count": 15,
   "metadata": {},
   "outputs": [
    {
     "name": "stdout",
     "output_type": "stream",
     "text": [
      "Plot line task: STAGEIN_TIME_S\n"
     ]
    },
    {
     "name": "stderr",
     "output_type": "stream",
     "text": [
      "/usr/local/lib/python3.7/site-packages/ipykernel_launcher.py:16: UserWarning: Matplotlib is currently using pgf, which is a non-GUI backend, so cannot show the figure.\n",
      "  app.launch_new_instance()\n"
     ]
    },
    {
     "name": "stdout",
     "output_type": "stream",
     "text": [
      "Plot line task: RESAMPLE_TIME_S\n"
     ]
    },
    {
     "name": "stderr",
     "output_type": "stream",
     "text": [
      "/usr/local/lib/python3.7/site-packages/ipykernel_launcher.py:16: UserWarning: Matplotlib is currently using pgf, which is a non-GUI backend, so cannot show the figure.\n",
      "  app.launch_new_instance()\n"
     ]
    },
    {
     "name": "stdout",
     "output_type": "stream",
     "text": [
      "Plot line task: COMBINE_TIME_S\n"
     ]
    },
    {
     "name": "stderr",
     "output_type": "stream",
     "text": [
      "/usr/local/lib/python3.7/site-packages/ipykernel_launcher.py:16: UserWarning: Matplotlib is currently using pgf, which is a non-GUI backend, so cannot show the figure.\n",
      "  app.launch_new_instance()\n"
     ]
    },
    {
     "name": "stdout",
     "output_type": "stream",
     "text": [
      "Plot line task: MAKESPAN_S\n"
     ]
    },
    {
     "name": "stderr",
     "output_type": "stream",
     "text": [
      "/usr/local/lib/python3.7/site-packages/ipykernel_launcher.py:16: UserWarning: Matplotlib is currently using pgf, which is a non-GUI backend, so cannot show the figure.\n",
      "  app.launch_new_instance()\n"
     ]
    }
   ],
   "source": [
    "def plot_lineplot_per_task_bbtype(df, col, output, loc='upper left'):\n",
    "    xlabel='Input files in burst buffers (%)'\n",
    "    legend_label=['Private', 'Striped']\n",
    "    name = col.split(\"_\")[0].lower()\n",
    "\n",
    "    f = plt.figure(figsize=(4, 3))\n",
    "    f.patch.set_alpha(0)\n",
    "    \n",
    "    g = sns.lineplot(x=\"BB_NB_FILES\", y=col, hue=\"BB_TYPE\", style=\"BB_TYPE\", data=df)\n",
    "    g.legend(title='', loc=loc, labels=legend_label)\n",
    "    g.set(xlabel=xlabel, ylabel='Execution time (s)')\n",
    "\n",
    "    plt.tight_layout()\n",
    "    plt.savefig(OUTPUT+'swarp-line-'+name+output+'.pdf', facecolor=f.get_facecolor(), edgecolor='none')\n",
    "    plt.savefig(OUTPUT+'swarp-line-'+name+output+'.pgf', facecolor=f.get_facecolor(), edgecolor='none')\n",
    "    plt.show()\n",
    "\n",
    "loc = ['upper left', 'upper right', 'upper left', 'center left']\n",
    "for i,task in enumerate(tasks):\n",
    "    print(\"Plot line task:\", task)\n",
    "    plot_lineplot_per_task_bbtype(temp_df, task, output=\"-fits-private-1w-\"+CORE+\"c\", loc=loc[i])\n",
    "    "
   ]
  },
  {
   "cell_type": "code",
   "execution_count": 16,
   "metadata": {},
   "outputs": [],
   "source": [
    "# print(\"Output figures\")\n",
    "# plt.figure(figsize=(5.8, 3.0))\n",
    "\n",
    "# f, axes = plt.subplots(1, 4, figsize=(25, 5), sharex=True)\n",
    "\n",
    "# g2 = sns.lineplot(x=\"BB_NB_FILES\", y=\"STAGEIN_TIME_S\", hue=\"BB_TYPE\", style=\"BB_TYPE\", data=df_swarp[is_FITS], ax=axes[0])\n",
    "# g2.legend(title='', loc='upper left', labels=['Private', 'Striped'])\n",
    "\n",
    "# g3 = sns.lineplot(x=\"BB_NB_FILES\", y=\"RESAMPLE_TIME_S\", hue=\"BB_TYPE\", style=\"BB_TYPE\", data=df_swarp[is_FITS], ax=axes[1])\n",
    "# #g3.legend_.remove()\n",
    "# g3.legend(title='', loc='upper right', labels=['Private', 'Striped'])\n",
    "\n",
    "# g4 = sns.lineplot(x=\"BB_NB_FILES\", y=\"COMBINE_TIME_S\", hue=\"BB_TYPE\", style=\"BB_TYPE\", data=df_swarp[is_FITS], ax=axes[2])\n",
    "# #g4.legend_.remove()\n",
    "# g4.legend(title='', loc='upper left', labels=['Private', 'Striped'])\n",
    "\n",
    "# g1 = sns.lineplot(x=\"BB_NB_FILES\", y=\"MAKESPAN_S\", hue=\"BB_TYPE\", style=\"BB_TYPE\", data=df_swarp[is_FITS], ax=axes[3])\n",
    "# #g1.legend_.remove()\n",
    "# g1.legend(title='', loc='upper left', labels=['Private', 'Striped'])\n",
    "\n"
   ]
  },
  {
   "cell_type": "code",
   "execution_count": 17,
   "metadata": {},
   "outputs": [],
   "source": [
    "#g = sns.lineplot(x=\"BB_NB_FILES\", y=\"RESAMPLE_TIME_S\", hue=\"BB_TYPE\", style=\"BB_TYPE\", data=df_swarp[~is_FITS])"
   ]
  },
  {
   "cell_type": "code",
   "execution_count": 18,
   "metadata": {},
   "outputs": [
    {
     "name": "stderr",
     "output_type": "stream",
     "text": [
      "/usr/local/lib/python3.7/site-packages/pandas/core/generic.py:5096: SettingWithCopyWarning: \n",
      "A value is trying to be set on a copy of a slice from a DataFrame.\n",
      "Try using .loc[row_indexer,col_indexer] = value instead\n",
      "\n",
      "See the caveats in the documentation: http://pandas.pydata.org/pandas-docs/stable/indexing.html#indexing-view-versus-copy\n",
      "  self[name] = value\n"
     ]
    },
    {
     "name": "stdout",
     "output_type": "stream",
     "text": [
      "PRIVATE\n"
     ]
    },
    {
     "name": "stderr",
     "output_type": "stream",
     "text": [
      "/usr/local/lib/python3.7/site-packages/ipykernel_launcher.py:29: UserWarning: Matplotlib is currently using pgf, which is a non-GUI backend, so cannot show the figure.\n"
     ]
    }
   ],
   "source": [
    "print(\"PRIVATE\")\n",
    "temp_df = df_swarp[is_PRIVATE]\n",
    "temp_df.BB_NB_FILES = (temp_df.BB_NB_FILES*100)/32\n",
    "\n",
    "def plot_lineplot_all_tasks_fits(df, output, label, legend_label, loc=['upper left', 'upper left', 'upper left', 'upper left']):\n",
    "    \n",
    "    f, axes = plt.subplots(2, 2, figsize=(10, 7), sharex=True)\n",
    "    f.patch.set_alpha(0)\n",
    "\n",
    "    g2 = sns.lineplot(x=\"BB_NB_FILES\", y=\"STAGEIN_TIME_S\", hue=\"FITS\", style=\"FITS\", data=df, ax=axes[0,0])\n",
    "    g2.legend(title='Intermediate files', loc=loc[0], labels=legend_label)\n",
    "    g2.set(xlabel=xlabel, ylabel='Stage in time (s)')\n",
    "\n",
    "    g3 = sns.lineplot(x=\"BB_NB_FILES\", y=\"RESAMPLE_TIME_S\", hue=\"FITS\", style=\"FITS\", data=df, ax=axes[0,1])\n",
    "    g3.legend(title='Intermediate files', loc=loc[1], labels=legend_label)\n",
    "    g3.set(xlabel=xlabel, ylabel='Resample time (s)')\n",
    "\n",
    "    g4 = sns.lineplot(x=\"BB_NB_FILES\", y=\"COMBINE_TIME_S\", hue=\"FITS\", style=\"FITS\", data=df, ax=axes[1,0])\n",
    "    g4.legend(title='Intermediate files', loc=loc[2], labels=legend_label)\n",
    "    g4.set(xlabel=xlabel, ylabel='Combine time (s)')\n",
    "\n",
    "    g1 = sns.lineplot(x=\"BB_NB_FILES\", y=\"MAKESPAN_S\", hue=\"FITS\", style=\"FITS\", data=df, ax=axes[1,1])\n",
    "    g1.legend(title='Intermediate files', loc=loc[3], labels=legend_label)\n",
    "    g1.set(xlabel=xlabel, ylabel='Makespan (s)')\n",
    "\n",
    "    plt.tight_layout()\n",
    "    plt.savefig(OUTPUT+output+'.pdf', facecolor=f.get_facecolor(), edgecolor='none')\n",
    "    plt.savefig(OUTPUT+output+'.pgf', facecolor=f.get_facecolor(), edgecolor='none')\n",
    "    plt.show()\n",
    "    plt.close() \n",
    "\n",
    "xlabel='Input files in burst buffers (%)'\n",
    "ylabel='Execution time (s)'\n",
    "legend_label=['Parallel File System', 'Burst Buffers']\n",
    "loc=['upper left', 'upper right', 'center left', 'upper right']\n",
    "\n",
    "plot_lineplot_all_tasks_fits(temp_df, \"swarp-line-private-1w-\"+CORE+\"c\", label=[xlabel, ylabel], legend_label=legend_label, loc=loc)\n",
    "\n",
    "\n",
    "    "
   ]
  },
  {
   "cell_type": "code",
   "execution_count": 19,
   "metadata": {},
   "outputs": [
    {
     "name": "stderr",
     "output_type": "stream",
     "text": [
      "/usr/local/lib/python3.7/site-packages/pandas/core/generic.py:5096: SettingWithCopyWarning: \n",
      "A value is trying to be set on a copy of a slice from a DataFrame.\n",
      "Try using .loc[row_indexer,col_indexer] = value instead\n",
      "\n",
      "See the caveats in the documentation: http://pandas.pydata.org/pandas-docs/stable/indexing.html#indexing-view-versus-copy\n",
      "  self[name] = value\n"
     ]
    },
    {
     "name": "stdout",
     "output_type": "stream",
     "text": [
      "STRIPED\n"
     ]
    },
    {
     "name": "stderr",
     "output_type": "stream",
     "text": [
      "/usr/local/lib/python3.7/site-packages/ipykernel_launcher.py:29: UserWarning: Matplotlib is currently using pgf, which is a non-GUI backend, so cannot show the figure.\n"
     ]
    }
   ],
   "source": [
    "print(\"STRIPED\")\n",
    "temp_df = df_swarp[~is_PRIVATE]\n",
    "temp_df.BB_NB_FILES = (temp_df.BB_NB_FILES*100)/32\n",
    "\n",
    "xlabel='Input files in burst buffers (%)'\n",
    "ylabel='Execution time (s)'\n",
    "legend_label=['Parallel File System', 'Burst Buffers']\n",
    "loc=['upper left', 'lower right', 'upper left', 'lower right']\n",
    "\n",
    "plot_lineplot_all_tasks_fits(temp_df, \"swarp-line-striped-1w-32c\", label=[xlabel, ylabel], legend_label=legend_label,loc=loc)\n"
   ]
  },
  {
   "cell_type": "code",
   "execution_count": 20,
   "metadata": {},
   "outputs": [
    {
     "name": "stdout",
     "output_type": "stream",
     "text": [
      "Plot line fits task: STAGEIN_TIME_S\n"
     ]
    },
    {
     "name": "stderr",
     "output_type": "stream",
     "text": [
      "/usr/local/lib/python3.7/site-packages/ipykernel_launcher.py:18: UserWarning: Matplotlib is currently using pgf, which is a non-GUI backend, so cannot show the figure.\n"
     ]
    },
    {
     "name": "stdout",
     "output_type": "stream",
     "text": [
      "Plot line fits task: RESAMPLE_TIME_S\n"
     ]
    },
    {
     "name": "stderr",
     "output_type": "stream",
     "text": [
      "/usr/local/lib/python3.7/site-packages/ipykernel_launcher.py:18: UserWarning: Matplotlib is currently using pgf, which is a non-GUI backend, so cannot show the figure.\n"
     ]
    },
    {
     "name": "stdout",
     "output_type": "stream",
     "text": [
      "Plot line fits task: COMBINE_TIME_S\n"
     ]
    },
    {
     "name": "stderr",
     "output_type": "stream",
     "text": [
      "/usr/local/lib/python3.7/site-packages/ipykernel_launcher.py:18: UserWarning: Matplotlib is currently using pgf, which is a non-GUI backend, so cannot show the figure.\n"
     ]
    },
    {
     "name": "stdout",
     "output_type": "stream",
     "text": [
      "Plot line fits task: MAKESPAN_S\n"
     ]
    },
    {
     "name": "stderr",
     "output_type": "stream",
     "text": [
      "/usr/local/lib/python3.7/site-packages/ipykernel_launcher.py:18: UserWarning: Matplotlib is currently using pgf, which is a non-GUI backend, so cannot show the figure.\n"
     ]
    }
   ],
   "source": [
    "def plot_lineplot_per_task_fits(df, col, output, loc='upper left'):\n",
    "    xlabel='Input files in burst buffers (%)'\n",
    "    ylabel='Execution time (s)'\n",
    "    legend_label=['Parallel File System', 'Burst Buffers']\n",
    "    \n",
    "    name = col.split(\"_\")[0].lower()\n",
    "\n",
    "    f = plt.figure(figsize=(4, 3))\n",
    "    f.patch.set_alpha(0)\n",
    "    \n",
    "    g = sns.lineplot(x=\"BB_NB_FILES\", y=col, hue=\"FITS\", style=\"FITS\", data=df)\n",
    "    g.legend(title='Intermediate files', loc=loc, labels=legend_label)\n",
    "    g.set(xlabel=xlabel, ylabel=ylabel)\n",
    "\n",
    "    plt.tight_layout()\n",
    "    plt.savefig(OUTPUT+'swarp-line-'+name+output+'.pdf', facecolor=f.get_facecolor(), edgecolor='none')\n",
    "    plt.savefig(OUTPUT+'swarp-line-'+name+output+'.pgf', facecolor=f.get_facecolor(), edgecolor='none')\n",
    "    plt.show()\n",
    "\n",
    "loc=['upper left', 'lower right', 'upper left', 'lower right']\n",
    "\n",
    "for i,task in enumerate(tasks):\n",
    "    print(\"Plot line fits task:\", task)\n",
    "    plot_lineplot_per_task_fits(temp_df, task, output=\"-fits-private-1w-\"+CORE+\"c\", loc=loc[i])\n",
    "    "
   ]
  },
  {
   "cell_type": "code",
   "execution_count": null,
   "metadata": {},
   "outputs": [],
   "source": []
  },
  {
   "cell_type": "code",
   "execution_count": null,
   "metadata": {},
   "outputs": [],
   "source": []
  }
 ],
 "metadata": {
  "kernelspec": {
   "display_name": "Python 3",
   "language": "python",
   "name": "python3"
  },
  "language_info": {
   "codemirror_mode": {
    "name": "ipython",
    "version": 3
   },
   "file_extension": ".py",
   "mimetype": "text/x-python",
   "name": "python",
   "nbconvert_exporter": "python",
   "pygments_lexer": "ipython3",
   "version": "3.7.6"
  }
 },
 "nbformat": 4,
 "nbformat_minor": 2
}
