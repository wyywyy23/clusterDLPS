{
 "cells": [
  {
   "cell_type": "code",
   "execution_count": 1,
   "metadata": {},
   "outputs": [
    {
     "name": "stdout",
     "output_type": "stream",
     "text": [
      "/usr/local/opt/python/bin/python3.7\n"
     ]
    },
    {
     "data": {
      "text/html": [
       "<style>.container { width:100% !important; }</style>"
      ],
      "text/plain": [
       "<IPython.core.display.HTML object>"
      ]
     },
     "metadata": {},
     "output_type": "display_data"
    }
   ],
   "source": [
    "import sys\n",
    "import os\n",
    "import numpy\n",
    "print(sys.executable)\n",
    "\n",
    "from IPython.core.display import display, HTML\n",
    "display(HTML(\"<style>.container { width:100% !important; }</style>\"))\n",
    "\n",
    "import importlib\n",
    "seaborn_found = importlib.util.find_spec('seaborn')\n",
    "if seaborn_found is None:\n",
    "    sys.write.stderr(\"[error] Seaborn package not found. exit\")\n",
    "    exit(-1)\n",
    "\n",
    "import seaborn as sns\n",
    "import pandas as pd\n",
    "\n",
    "import matplotlib as mpl\n",
    "\n",
    "#mpl.use(\"pgf\")\n",
    "\n",
    "import matplotlib.pyplot as plt\n",
    "\n",
    "plt.rcParams.update({\n",
    "    \"font.family\": \"serif\",  # use serif/main font for text elements\n",
    "    \"text.usetex\": False,     # use inline math for ticks\n",
    "    \"pgf.rcfonts\": False,    # don't setup fonts from rc parameters\n",
    "    \"pgf.preamble\": [\n",
    "         \"\\\\usepackage{units}\",          # load additional packages\n",
    "         \"\\\\usepackage{metalogo}\",\n",
    "         \"\\\\usepackage{unicode-math}\",   # unicode math setup\n",
    "         r\"\\setmathfont{xits-math.otf}\",\n",
    "         ]\n",
    "})\n",
    "\n",
    "\n",
    "plt.rcParams.update({\n",
    "    \"font.family\": \"serif\",\n",
    "    \"font.serif\": [\"Times\"],                    # use latex default serif font\n",
    "    \"font.size\": \"22\",\n",
    "})\n",
    "\n",
    "plt.rcParams.update({\n",
    "    \"pgf.texsystem\": \"pdflatex\",\n",
    "    \"pgf.preamble\": [\n",
    "         r\"\\usepackage[utf8x]{inputenc}\",\n",
    "         r\"\\usepackage[T1]{fontenc}\",\n",
    "         r\"\\usepackage{cmbright}\",\n",
    "         ]\n",
    "})\n",
    "\n",
    "# plt.rc('text', usetex=True)\n",
    "\n",
    "sns.set(style=\"ticks\", color_codes=True, font_scale=1.3)\n",
    "sns.set_context(\"paper\", rc={\"axes.labelsize\":14, \"axes.titlesize\":14, \"legend.fontsize\":14, \"xtick.labelsize\":14, \"ytick.labelsize\":14, \"font.size\":14})\n",
    "\n",
    "sns.set_style(\"darkgrid\", {'xtick.bottom': True, 'xtick.top': False, 'ytick.left': True, 'ytick.right': False, 'axes.grid': True, \"axes.facecolor\": \".9\", 'grid.linestyle': '-', 'lines.linewidth':2.5})\n",
    "# sns.set_palette(\"dark\")\n",
    "\n",
    "DIR_REAL_DATA=\"/Users/lpottier/research/usc-isi/projects/active/workflow-io-bb/data/traces/swarp/\"\n",
    "DIR_SIMU=\"/Users/lpottier/research/usc-isi/projects/active/workflow-io-bb/simulation/output\"\n",
    "\n",
    "fig_size_square = (5, 4)\n",
    "fig_size_rect = (6.5, 4)"
   ]
  },
  {
   "cell_type": "code",
   "execution_count": 2,
   "metadata": {},
   "outputs": [],
   "source": [
    "# csv_file = DIR+\"/simu-bb-runs2020-1c.csv\"\n",
    "# csv_file = DIR+\"/simu-bb_runs2020-Xc.csv\"\n",
    "csv_file_cori = DIR_SIMU+\"/simu-cori-runs-multi-pipelines-1c.csv\"\n",
    "csv_file_summit = DIR_SIMU+\"/simu-summit-runs-multi-pipelines-1c.csv\"\n",
    "\n",
    "CORE=\"1\"\n",
    "PLOT_DIR=os.getcwd()\n",
    "# PLOT_DIR=\"/Users/lpottier/research/usc-isi/projects/paper-workflow-bb/figures/plots/simu-swarp\"\n",
    "\n",
    "OUTPUT = PLOT_DIR+\"/\"+\"simu-bb-runs2020-multipipeline-1C/\""
   ]
  },
  {
   "cell_type": "code",
   "execution_count": 3,
   "metadata": {},
   "outputs": [
    {
     "name": "stdout",
     "output_type": "stream",
     "text": [
      "Directory  /Users/lpottier/research/usc-isi/projects/active/workflow-io-bb/data/traces/notebooks/simu-bb-runs2020-multipipeline-1C/  Created \n"
     ]
    }
   ],
   "source": [
    "\n",
    "try:\n",
    "    # Create target Directory\n",
    "    os.mkdir(OUTPUT)\n",
    "    print(\"Directory \" , OUTPUT ,  \" Created \") \n",
    "except FileExistsError:\n",
    "    print(\"Directory \" , OUTPUT ,  \" already exists\")\n"
   ]
  },
  {
   "cell_type": "code",
   "execution_count": 4,
   "metadata": {},
   "outputs": [],
   "source": [
    "df_cori = pd.read_csv(csv_file_cori, sep=' ')\n",
    "df_summit = pd.read_csv(csv_file_summit, sep=' ')\n",
    "\n",
    "df = pd.concat([df_cori, df_summit])\n",
    "df[\"BB_TYPE\"]= df[\"BB_TYPE\"].str.replace(\"SUMMIT\", \"ONNODE\", case = False)\n",
    "\n",
    "df_priv = df[df.BB_TYPE==\"PRIVATE\"]\n",
    "df_strip = df[df.BB_TYPE==\"STRIPED\"]\n",
    "df_onnode = df[df.BB_TYPE==\"ONNODE\"]\n",
    "\n",
    "\n",
    "df_agg = df.groupby(['ID', 'NB_PIPELINE','FITS', 'BB_TYPE', 'BB_NB_FILES','AVG', 'NB_CORES'], as_index=False).agg({'MEASURED_MKSP_S': 'max', 'ERR_MKSP': 'max', 'SIMULATION_S': 'max', 'MEASURED_WALLTIME_S': 'max', 'ERR_WALLTIME': 'max'})\n"
   ]
  },
  {
   "cell_type": "code",
   "execution_count": 5,
   "metadata": {},
   "outputs": [
    {
     "data": {
      "text/html": [
       "<div>\n",
       "<style scoped>\n",
       "    .dataframe tbody tr th:only-of-type {\n",
       "        vertical-align: middle;\n",
       "    }\n",
       "\n",
       "    .dataframe tbody tr th {\n",
       "        vertical-align: top;\n",
       "    }\n",
       "\n",
       "    .dataframe thead th {\n",
       "        text-align: right;\n",
       "    }\n",
       "</style>\n",
       "<table border=\"1\" class=\"dataframe\">\n",
       "  <thead>\n",
       "    <tr style=\"text-align: right;\">\n",
       "      <th></th>\n",
       "      <th>ID</th>\n",
       "      <th>NB_PIPELINE</th>\n",
       "      <th>FITS</th>\n",
       "      <th>BB_TYPE</th>\n",
       "      <th>BB_NB_FILES</th>\n",
       "      <th>AVG</th>\n",
       "      <th>NB_CORES</th>\n",
       "      <th>MEASURED_MKSP_S</th>\n",
       "      <th>ERR_MKSP</th>\n",
       "      <th>SIMULATION_S</th>\n",
       "      <th>MEASURED_WALLTIME_S</th>\n",
       "      <th>ERR_WALLTIME</th>\n",
       "    </tr>\n",
       "  </thead>\n",
       "  <tbody>\n",
       "    <tr>\n",
       "      <th>0</th>\n",
       "      <td>112043</td>\n",
       "      <td>32</td>\n",
       "      <td>Y</td>\n",
       "      <td>ONNODE</td>\n",
       "      <td>32</td>\n",
       "      <td>1</td>\n",
       "      <td>1</td>\n",
       "      <td>91.2036</td>\n",
       "      <td>0.706981</td>\n",
       "      <td>140.072</td>\n",
       "      <td>95.0321</td>\n",
       "      <td>0.473941</td>\n",
       "    </tr>\n",
       "    <tr>\n",
       "      <th>1</th>\n",
       "      <td>112043</td>\n",
       "      <td>32</td>\n",
       "      <td>Y</td>\n",
       "      <td>ONNODE</td>\n",
       "      <td>32</td>\n",
       "      <td>2</td>\n",
       "      <td>1</td>\n",
       "      <td>92.3017</td>\n",
       "      <td>0.705142</td>\n",
       "      <td>140.857</td>\n",
       "      <td>95.7935</td>\n",
       "      <td>0.470419</td>\n",
       "    </tr>\n",
       "    <tr>\n",
       "      <th>2</th>\n",
       "      <td>112043</td>\n",
       "      <td>32</td>\n",
       "      <td>Y</td>\n",
       "      <td>ONNODE</td>\n",
       "      <td>32</td>\n",
       "      <td>3</td>\n",
       "      <td>1</td>\n",
       "      <td>91.2675</td>\n",
       "      <td>0.703942</td>\n",
       "      <td>140.124</td>\n",
       "      <td>99.2084</td>\n",
       "      <td>0.412423</td>\n",
       "    </tr>\n",
       "    <tr>\n",
       "      <th>3</th>\n",
       "      <td>112043</td>\n",
       "      <td>32</td>\n",
       "      <td>Y</td>\n",
       "      <td>ONNODE</td>\n",
       "      <td>32</td>\n",
       "      <td>4</td>\n",
       "      <td>1</td>\n",
       "      <td>90.4763</td>\n",
       "      <td>0.707582</td>\n",
       "      <td>139.577</td>\n",
       "      <td>94.0009</td>\n",
       "      <td>0.484852</td>\n",
       "    </tr>\n",
       "    <tr>\n",
       "      <th>4</th>\n",
       "      <td>112043</td>\n",
       "      <td>32</td>\n",
       "      <td>Y</td>\n",
       "      <td>ONNODE</td>\n",
       "      <td>32</td>\n",
       "      <td>5</td>\n",
       "      <td>1</td>\n",
       "      <td>91.2743</td>\n",
       "      <td>0.706142</td>\n",
       "      <td>140.143</td>\n",
       "      <td>99.0580</td>\n",
       "      <td>0.414754</td>\n",
       "    </tr>\n",
       "  </tbody>\n",
       "</table>\n",
       "</div>"
      ],
      "text/plain": [
       "       ID  NB_PIPELINE FITS BB_TYPE  BB_NB_FILES  AVG  NB_CORES  \\\n",
       "0  112043           32    Y  ONNODE           32    1         1   \n",
       "1  112043           32    Y  ONNODE           32    2         1   \n",
       "2  112043           32    Y  ONNODE           32    3         1   \n",
       "3  112043           32    Y  ONNODE           32    4         1   \n",
       "4  112043           32    Y  ONNODE           32    5         1   \n",
       "\n",
       "   MEASURED_MKSP_S  ERR_MKSP  SIMULATION_S  MEASURED_WALLTIME_S  ERR_WALLTIME  \n",
       "0          91.2036  0.706981       140.072              95.0321      0.473941  \n",
       "1          92.3017  0.705142       140.857              95.7935      0.470419  \n",
       "2          91.2675  0.703942       140.124              99.2084      0.412423  \n",
       "3          90.4763  0.707582       139.577              94.0009      0.484852  \n",
       "4          91.2743  0.706142       140.143              99.0580      0.414754  "
      ]
     },
     "execution_count": 5,
     "metadata": {},
     "output_type": "execute_result"
    }
   ],
   "source": [
    "df_agg.head()"
   ]
  },
  {
   "cell_type": "code",
   "execution_count": 6,
   "metadata": {},
   "outputs": [
    {
     "name": "stderr",
     "output_type": "stream",
     "text": [
      "/usr/local/lib/python3.7/site-packages/ipykernel_launcher.py:3: FutureWarning: Sorting because non-concatenation axis is not aligned. A future version\n",
      "of pandas will change to not sort by default.\n",
      "\n",
      "To accept the future behavior, pass 'sort=False'.\n",
      "\n",
      "To retain the current behavior and silence the warning, pass 'sort=True'.\n",
      "\n",
      "  This is separate from the ipykernel package so we can avoid doing imports until\n"
     ]
    }
   ],
   "source": [
    "df_real_cori = pd.read_csv(DIR_REAL_DATA+\"/shared-cori/bb_runs2020-multipipeline-1C.csv\", sep=' ')\n",
    "df_real_summit = pd.read_csv(DIR_REAL_DATA+\"/private-summit/runs-multi-pipelines-1c-clean.csv\", sep=' ')\n",
    "df_real = pd.concat([df_real_cori, df_real_summit])\n",
    "\n",
    "big = pd.merge(df, df_real, on=['ID', 'NB_PIPELINE','FITS', 'BB_TYPE', 'AVG', 'NB_CORES'])\n",
    "\n",
    "bigagg = big.groupby(['ID', 'NB_PIPELINE','FITS', 'BB_TYPE', 'AVG', 'NB_CORES'], as_index=False).agg({'MEASURED_MKSP_S': 'max', 'MAKESPAN_S': 'max', 'SIMULATION_S': 'max', 'MEASURED_WALLTIME_S': 'max', 'ERR_WALLTIME': 'max'})\n"
   ]
  },
  {
   "cell_type": "code",
   "execution_count": 7,
   "metadata": {},
   "outputs": [
    {
     "data": {
      "text/html": [
       "<div>\n",
       "<style scoped>\n",
       "    .dataframe tbody tr th:only-of-type {\n",
       "        vertical-align: middle;\n",
       "    }\n",
       "\n",
       "    .dataframe tbody tr th {\n",
       "        vertical-align: top;\n",
       "    }\n",
       "\n",
       "    .dataframe thead th {\n",
       "        text-align: right;\n",
       "    }\n",
       "</style>\n",
       "<table border=\"1\" class=\"dataframe\">\n",
       "  <thead>\n",
       "    <tr style=\"text-align: right;\">\n",
       "      <th></th>\n",
       "      <th>ID</th>\n",
       "      <th>NB_PIPELINE</th>\n",
       "      <th>FITS</th>\n",
       "      <th>BB_TYPE</th>\n",
       "      <th>AVG</th>\n",
       "      <th>NB_CORES</th>\n",
       "      <th>MEASURED_MKSP_S</th>\n",
       "      <th>MAKESPAN_S</th>\n",
       "      <th>SIMULATION_S</th>\n",
       "      <th>MEASURED_WALLTIME_S</th>\n",
       "      <th>ERR_WALLTIME</th>\n",
       "      <th>ERR</th>\n",
       "    </tr>\n",
       "  </thead>\n",
       "  <tbody>\n",
       "    <tr>\n",
       "      <th>0</th>\n",
       "      <td>112043</td>\n",
       "      <td>32</td>\n",
       "      <td>Y</td>\n",
       "      <td>ONNODE</td>\n",
       "      <td>1</td>\n",
       "      <td>1</td>\n",
       "      <td>91.2036</td>\n",
       "      <td>89.244617</td>\n",
       "      <td>140.072</td>\n",
       "      <td>95.0321</td>\n",
       "      <td>0.473941</td>\n",
       "      <td>36.286612</td>\n",
       "    </tr>\n",
       "    <tr>\n",
       "      <th>1</th>\n",
       "      <td>112043</td>\n",
       "      <td>32</td>\n",
       "      <td>Y</td>\n",
       "      <td>ONNODE</td>\n",
       "      <td>2</td>\n",
       "      <td>1</td>\n",
       "      <td>92.3017</td>\n",
       "      <td>89.943674</td>\n",
       "      <td>140.857</td>\n",
       "      <td>95.7935</td>\n",
       "      <td>0.470419</td>\n",
       "      <td>36.145400</td>\n",
       "    </tr>\n",
       "    <tr>\n",
       "      <th>2</th>\n",
       "      <td>112043</td>\n",
       "      <td>32</td>\n",
       "      <td>Y</td>\n",
       "      <td>ONNODE</td>\n",
       "      <td>3</td>\n",
       "      <td>1</td>\n",
       "      <td>91.2675</td>\n",
       "      <td>89.968515</td>\n",
       "      <td>140.124</td>\n",
       "      <td>99.2084</td>\n",
       "      <td>0.412423</td>\n",
       "      <td>35.793644</td>\n",
       "    </tr>\n",
       "    <tr>\n",
       "      <th>3</th>\n",
       "      <td>112043</td>\n",
       "      <td>32</td>\n",
       "      <td>Y</td>\n",
       "      <td>ONNODE</td>\n",
       "      <td>4</td>\n",
       "      <td>1</td>\n",
       "      <td>90.4763</td>\n",
       "      <td>88.146305</td>\n",
       "      <td>139.577</td>\n",
       "      <td>94.0009</td>\n",
       "      <td>0.484852</td>\n",
       "      <td>36.847543</td>\n",
       "    </tr>\n",
       "    <tr>\n",
       "      <th>4</th>\n",
       "      <td>112043</td>\n",
       "      <td>32</td>\n",
       "      <td>Y</td>\n",
       "      <td>ONNODE</td>\n",
       "      <td>5</td>\n",
       "      <td>1</td>\n",
       "      <td>91.2743</td>\n",
       "      <td>89.208339</td>\n",
       "      <td>140.143</td>\n",
       "      <td>99.0580</td>\n",
       "      <td>0.414754</td>\n",
       "      <td>36.344777</td>\n",
       "    </tr>\n",
       "  </tbody>\n",
       "</table>\n",
       "</div>"
      ],
      "text/plain": [
       "       ID  NB_PIPELINE FITS BB_TYPE  AVG  NB_CORES  MEASURED_MKSP_S  \\\n",
       "0  112043           32    Y  ONNODE    1         1          91.2036   \n",
       "1  112043           32    Y  ONNODE    2         1          92.3017   \n",
       "2  112043           32    Y  ONNODE    3         1          91.2675   \n",
       "3  112043           32    Y  ONNODE    4         1          90.4763   \n",
       "4  112043           32    Y  ONNODE    5         1          91.2743   \n",
       "\n",
       "   MAKESPAN_S  SIMULATION_S  MEASURED_WALLTIME_S  ERR_WALLTIME        ERR  \n",
       "0   89.244617       140.072              95.0321      0.473941  36.286612  \n",
       "1   89.943674       140.857              95.7935      0.470419  36.145400  \n",
       "2   89.968515       140.124              99.2084      0.412423  35.793644  \n",
       "3   88.146305       139.577              94.0009      0.484852  36.847543  \n",
       "4   89.208339       140.143              99.0580      0.414754  36.344777  "
      ]
     },
     "execution_count": 7,
     "metadata": {},
     "output_type": "execute_result"
    }
   ],
   "source": [
    "bigagg['ERR'] = (abs(bigagg['MAKESPAN_S'] - bigagg['SIMULATION_S']) / bigagg['SIMULATION_S']) *100\n",
    "bigagg.head()"
   ]
  },
  {
   "cell_type": "code",
   "execution_count": 30,
   "metadata": {},
   "outputs": [
    {
     "name": "stdout",
     "output_type": "stream",
     "text": [
      "       ID  NB_PIPELINE FITS BB_TYPE  AVG  NB_CORES  MEASURED_MKSP_S  \\\n",
      "0  112043           32    Y  ONNODE    1         1          91.2036   \n",
      "1  112043           32    Y  ONNODE    2         1          92.3017   \n",
      "2  112043           32    Y  ONNODE    3         1          91.2675   \n",
      "3  112043           32    Y  ONNODE    4         1          90.4763   \n",
      "4  112043           32    Y  ONNODE    5         1          91.2743   \n",
      "\n",
      "   MAKESPAN_S  SIMULATION_S  MEASURED_WALLTIME_S  ERR_WALLTIME        ERR  \n",
      "0   89.244617       140.072              95.0321      0.473941  36.286612  \n",
      "1   89.943674       140.857              95.7935      0.470419  36.145400  \n",
      "2   89.968515       140.124              99.2084      0.412423  35.793644  \n",
      "3   88.146305       139.577              94.0009      0.484852  36.847543  \n",
      "4   89.208339       140.143              99.0580      0.414754  36.344777  \n",
      "BB_NB_FILES : [ 0 16 24 32  8]\n",
      "BB_TYPE     : ['PRIVATE' 'STRIPED' 'ONNODE']\n",
      "BB_TYPE     : ['Y' 'N']\n",
      "NB_PIPELINE : [ 1 16 32  4  8]\n"
     ]
    }
   ],
   "source": [
    "print(bigagg.head())\n",
    "print(\"BB_NB_FILES :\", df.BB_NB_FILES.unique())\n",
    "print(\"BB_TYPE     :\", df.BB_TYPE.unique())\n",
    "print(\"BB_TYPE     :\", df.FITS.unique())\n",
    "print(\"NB_PIPELINE :\", df.NB_PIPELINE.unique())"
   ]
  },
  {
   "cell_type": "code",
   "execution_count": 29,
   "metadata": {},
   "outputs": [
    {
     "data": {
      "image/png": "[encoded data removed]",
      "text/plain": [
       "<Figure size 468x288 with 1 Axes>"
      ]
     },
     "metadata": {
      "needs_background": "light"
     },
     "output_type": "display_data"
    }
   ],
   "source": [
    "xlabel='Number of pipelines'\n",
    "ylabel='Execution time (s)'\n",
    "\n",
    "# name = col.split(\"_\")[0].lower()\n",
    "\n",
    "is_FITS = bigagg['BB_TYPE']==\"FITS\"\n",
    "is_PRIVATE = bigagg['BB_TYPE']==\"PRIVATE\"\n",
    "is_STRIPED = bigagg['BB_TYPE']==\"STRIPED\"\n",
    "is_ONNODE = bigagg['BB_TYPE']==\"ONNODE\"\n",
    "\n",
    "\n",
    "f = plt.figure(figsize=fig_size_rect)\n",
    "f.patch.set_alpha(0)\n",
    "\n",
    "g = sns.lineplot(x=\"NB_PIPELINE\", y=\"MAKESPAN_S\", data=bigagg[is_PRIVATE],  color=\"b\", markers=True)\n",
    "g = sns.lineplot(x=\"NB_PIPELINE\", y=\"SIMULATION_S\", data=bigagg[is_PRIVATE],  color=\"g\", markers=True)\n",
    "\n",
    "# ax2 = g.twinx()\n",
    "# sns.lineplot(x=\"NB_PIPELINE\", y=\"ERR\", data=bigagg[is_PRIVATE], markers='x', ax=ax2, ci=None, color=\"black\")\n",
    "\n",
    "g.legend(loc='upper left', title='', labels=[\"Measured makespan\", \"Simulated makespan\"])\n",
    "\n",
    "# ax2.legend(loc='lower right', title='', labels=[\"Error\"])\n",
    "# ax2.set(ylabel=\"Error (%)\")\n",
    "g.set(xlabel=xlabel, ylabel=ylabel, xticks=bigagg.NB_PIPELINE.unique(), ylim=(90, 250))\n",
    "# plt.grid()\n",
    "\n",
    "plt.tight_layout()\n",
    "plt.savefig(OUTPUT+'swarp-simu-private-mksp-pipeline.pdf', facecolor=f.get_facecolor(), edgecolor='none')\n",
    "plt.savefig(OUTPUT+'swarp-simu-private-mksp-pipeline.pgf', facecolor=f.get_facecolor(), edgecolor='none')\n",
    "plt.show()"
   ]
  },
  {
   "cell_type": "code",
   "execution_count": 10,
   "metadata": {},
   "outputs": [
    {
     "name": "stdout",
     "output_type": "stream",
     "text": [
      "min error 2.822793526089177 , avg error 10.653287694802286 , sd error 6.801979386030325 , max error 47.034905568666446\n"
     ]
    }
   ],
   "source": [
    "print(\"PRIVATE: min error\",\n",
    "    min(bigagg[is_PRIVATE]['ERR']),\n",
    "    \", avg error\",\n",
    "    numpy.mean(bigagg[is_PRIVATE]['ERR']),\n",
    "    \", sd error\",\n",
    "    numpy.std(bigagg[is_PRIVATE]['ERR']),\n",
    "    \", max error\",\n",
    "    max(bigagg[is_PRIVATE]['ERR']),\n",
    ")"
   ]
  },
  {
   "cell_type": "code",
   "execution_count": 16,
   "metadata": {},
   "outputs": [
    {
     "data": {
      "image/png": "[encoded data removed]",
      "text/plain": [
       "<Figure size 468x288 with 1 Axes>"
      ]
     },
     "metadata": {
      "needs_background": "light"
     },
     "output_type": "display_data"
    }
   ],
   "source": [
    "xlabel='Number of pipelines'\n",
    "ylabel='Execution time (s)'\n",
    "\n",
    "# name = col.split(\"_\")[0].lower()\n",
    "\n",
    "f = plt.figure(figsize=fig_size_rect)\n",
    "f.patch.set_alpha(0)\n",
    "\n",
    "g = sns.lineplot(x=\"NB_PIPELINE\", y=\"MAKESPAN_S\", data=bigagg[is_STRIPED],  color=\"b\", markers=True)\n",
    "g = sns.lineplot(x=\"NB_PIPELINE\", y=\"SIMULATION_S\", data=bigagg[is_STRIPED],  color=\"g\", markers=True)\n",
    "\n",
    "# ax2 = g.twinx()\n",
    "# sns.lineplot(x=\"NB_PIPELINE\", y=\"ERR\", data=bigagg[~is_PRIVATE], markers='x', ax=ax2, ci=None, color=\"black\")\n",
    "\n",
    "# ax2.legend(loc='lower right', title='', labels=[\"Error\"])\n",
    "# ax2.set(ylabel=\"Error (%)\")\n",
    "\n",
    "g.legend(loc='upper left', title='', labels=[\"Measured makespan\", \"Simulated makespan\"])\n",
    "g.set(xlabel=xlabel, ylabel=ylabel, xticks=bigagg.NB_PIPELINE.unique(), ylim=(120, 300))\n",
    "# plt.grid()\n",
    "plt.tight_layout()\n",
    "plt.savefig(OUTPUT+'swarp-simu-striped-mksp-pipeline.pdf', facecolor=f.get_facecolor(), edgecolor='none')\n",
    "plt.savefig(OUTPUT+'swarp-simu-striped-mksp-pipeline.pgf', facecolor=f.get_facecolor(), edgecolor='none')\n",
    "plt.show()"
   ]
  },
  {
   "cell_type": "code",
   "execution_count": 21,
   "metadata": {},
   "outputs": [
    {
     "name": "stdout",
     "output_type": "stream",
     "text": [
      "STRIPED: min error 0.1255150065567169 , avg error 10.143863279237253 , sd error 5.455614388693036 , max error 20.247353047928414\n"
     ]
    }
   ],
   "source": [
    "print(\"STRIPED: min error\",\n",
    "    min(bigagg[is_STRIPED]['ERR']),\n",
    "    \", avg error\",\n",
    "    numpy.mean(bigagg[is_STRIPED]['ERR']),\n",
    "    \", sd error\",\n",
    "    numpy.std(bigagg[is_STRIPED]['ERR']),\n",
    "    \", max error\",\n",
    "    max(bigagg[is_STRIPED]['ERR']),\n",
    ")"
   ]
  },
  {
   "cell_type": "code",
   "execution_count": 20,
   "metadata": {},
   "outputs": [
    {
     "data": {
      "image/png": "[encoded data removed]",
      "text/plain": [
       "<Figure size 468x288 with 1 Axes>"
      ]
     },
     "metadata": {
      "needs_background": "light"
     },
     "output_type": "display_data"
    }
   ],
   "source": [
    "xlabel='Number of pipelines'\n",
    "ylabel='Execution time (s)'\n",
    "\n",
    "# name = col.split(\"_\")[0].lower()\n",
    "\n",
    "f = plt.figure(figsize=fig_size_rect)\n",
    "f.patch.set_alpha(0)\n",
    "\n",
    "g = sns.lineplot(x=\"NB_PIPELINE\", y=\"MAKESPAN_S\", data=bigagg[is_ONNODE],  color=\"b\", markers=True)\n",
    "g = sns.lineplot(x=\"NB_PIPELINE\", y=\"SIMULATION_S\", data=bigagg[is_ONNODE],  color=\"g\", markers=True)\n",
    "\n",
    "# ax2 = g.twinx()\n",
    "# sns.lineplot(x=\"NB_PIPELINE\", y=\"ERR\", data=bigagg[~is_PRIVATE], markers='x', ax=ax2, ci=None, color=\"black\")\n",
    "\n",
    "# ax2.legend(loc='lower right', title='', labels=[\"Error\"])\n",
    "# ax2.set(ylabel=\"Error (%)\")\n",
    "\n",
    "g.legend(loc='upper left', title='', labels=[\"Measured makespan\", \"Simulated makespan\"])\n",
    "g.set(xlabel=xlabel, ylabel=ylabel, xticks=bigagg.NB_PIPELINE.unique(), ylim=(40, 160))\n",
    "# plt.grid()\n",
    "plt.tight_layout()\n",
    "plt.savefig(OUTPUT+'swarp-simu-onnode-mksp-pipeline.pdf', facecolor=f.get_facecolor(), edgecolor='none')\n",
    "plt.savefig(OUTPUT+'swarp-simu-onnode-mksp-pipeline.pgf', facecolor=f.get_facecolor(), edgecolor='none')\n",
    "plt.show()"
   ]
  },
  {
   "cell_type": "code",
   "execution_count": 19,
   "metadata": {},
   "outputs": [
    {
     "name": "stdout",
     "output_type": "stream",
     "text": [
      "ONNODE: min error 4.432656711901979 , avg error 16.89022907971607 , sd error 11.354784300922887 , max error 39.37785415240276\n"
     ]
    }
   ],
   "source": [
    "print(\"ONNODE: min error\",\n",
    "    min(bigagg[is_ONNODE]['ERR']),\n",
    "    \", avg error\",\n",
    "    numpy.mean(bigagg[is_ONNODE]['ERR']),\n",
    "    \", sd error\",\n",
    "    numpy.std(bigagg[is_ONNODE]['ERR']),\n",
    "    \", max error\",\n",
    "    max(bigagg[is_ONNODE]['ERR']),\n",
    ")"
   ]
  },
  {
   "cell_type": "code",
   "execution_count": null,
   "metadata": {},
   "outputs": [],
   "source": []
  }
 ],
 "metadata": {
  "kernelspec": {
   "display_name": "Python 3",
   "language": "python",
   "name": "python3"
  },
  "language_info": {
   "codemirror_mode": {
    "name": "ipython",
    "version": 3
   },
   "file_extension": ".py",
   "mimetype": "text/x-python",
   "name": "python",
   "nbconvert_exporter": "python",
   "pygments_lexer": "ipython3",
   "version": "3.7.7"
  }
 },
 "nbformat": 4,
 "nbformat_minor": 2
}
